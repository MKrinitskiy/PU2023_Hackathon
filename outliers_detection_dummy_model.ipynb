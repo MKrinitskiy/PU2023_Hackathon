{
 "cells": [
  {
   "cell_type": "code",
   "execution_count": 24,
   "id": "c9aaa71a",
   "metadata": {},
   "outputs": [],
   "source": [
    "import numpy as np\n",
    "import numpy as np\n",
    "import pandas as pd\n",
    "import pickle\n",
    "from tqdm import tqdm_notebook\n",
    "from sklearn.metrics import f1_score\n",
    "import matplotlib.pyplot as plt"
   ]
  },
  {
   "cell_type": "code",
   "execution_count": 2,
   "id": "b067adea",
   "metadata": {},
   "outputs": [],
   "source": [
    "from scipy.stats import bernoulli"
   ]
  },
  {
   "cell_type": "code",
   "execution_count": 3,
   "id": "77c83352",
   "metadata": {},
   "outputs": [],
   "source": [
    "history_length = 30\n",
    "forecast_range = 1"
   ]
  },
  {
   "cell_type": "code",
   "execution_count": 8,
   "id": "a3e5abb0",
   "metadata": {},
   "outputs": [
    {
     "data": {
      "text/plain": [
       "(234482,)"
      ]
     },
     "execution_count": 8,
     "metadata": {},
     "output_type": "execute_result"
    }
   ],
   "source": [
    "with open('./public_bouy_target.pkl', 'rb') as f:\n",
    "    targets = pickle.load(f)\n",
    "true_targets = np.concatenate(targets)\n",
    "true_targets.shape"
   ]
  },
  {
   "cell_type": "code",
   "execution_count": 4,
   "id": "ba0b4e57",
   "metadata": {},
   "outputs": [],
   "source": [
    "with open('./x_AR_vectorized.pkl', 'rb') as f:\n",
    "    x_AR_vectorized = pickle.load(f)"
   ]
  },
  {
   "cell_type": "code",
   "execution_count": 5,
   "id": "81c440d4",
   "metadata": {},
   "outputs": [],
   "source": [
    "with open('./y_AR_vectorized.pkl', 'rb') as f:\n",
    "    y_AR_vectorized = pickle.load(f)"
   ]
  },
  {
   "cell_type": "code",
   "execution_count": null,
   "id": "d630279c",
   "metadata": {},
   "outputs": [],
   "source": []
  },
  {
   "cell_type": "markdown",
   "id": "9c0c306f",
   "metadata": {},
   "source": [
    "## Random baseline model"
   ]
  },
  {
   "cell_type": "code",
   "execution_count": 9,
   "id": "5b0361bd",
   "metadata": {},
   "outputs": [
    {
     "name": "stderr",
     "output_type": "stream",
     "text": [
      "/tmp/ipykernel_24364/1404213454.py:2: TqdmDeprecationWarning: This function will be removed in tqdm==5.0.0\n",
      "Please use `tqdm.notebook.tqdm` instead of `tqdm.tqdm_notebook`\n",
      "  for xAR in tqdm_notebook(x_AR_vectorized):\n"
     ]
    },
    {
     "data": {
      "application/vnd.jupyter.widget-view+json": {
       "model_id": "12dbc0258de243618fcf26d519280f1c",
       "version_major": 2,
       "version_minor": 0
      },
      "text/plain": [
       "  0%|          | 0/40 [00:00<?, ?it/s]"
      ]
     },
     "metadata": {},
     "output_type": "display_data"
    }
   ],
   "source": [
    "pred_targets = []\n",
    "for xAR in tqdm_notebook(x_AR_vectorized):\n",
    "    pred_target = bernoulli.rvs(0.5, size=xAR.shape[0])\n",
    "    pred_target = np.concatenate([np.zeros(history_length, dtype=bool), pred_target])\n",
    "    pred_targets.append(pred_target)"
   ]
  },
  {
   "cell_type": "code",
   "execution_count": 10,
   "id": "0eeef115",
   "metadata": {},
   "outputs": [
    {
     "data": {
      "text/plain": [
       "(234482,)"
      ]
     },
     "execution_count": 10,
     "metadata": {},
     "output_type": "execute_result"
    }
   ],
   "source": [
    "pred_targets = np.concatenate(pred_targets)\n",
    "pred_targets.shape"
   ]
  },
  {
   "cell_type": "code",
   "execution_count": 11,
   "id": "6866ab30",
   "metadata": {},
   "outputs": [
    {
     "data": {
      "text/plain": [
       "0.03817305227293402"
      ]
     },
     "execution_count": 11,
     "metadata": {},
     "output_type": "execute_result"
    }
   ],
   "source": [
    "f1_score(true_targets, pred_targets)"
   ]
  },
  {
   "cell_type": "code",
   "execution_count": null,
   "id": "24ebd376",
   "metadata": {},
   "outputs": [],
   "source": []
  },
  {
   "cell_type": "markdown",
   "id": "e66ad5ea",
   "metadata": {},
   "source": [
    "## Bernoulli baseline models"
   ]
  },
  {
   "cell_type": "code",
   "execution_count": 18,
   "id": "e70fe1c3",
   "metadata": {},
   "outputs": [],
   "source": [
    "def f1_random_model(p=0.5):\n",
    "    pred_targets = []\n",
    "    for xAR in x_AR_vectorized:\n",
    "        pred_target = bernoulli.rvs(p, size=xAR.shape[0])\n",
    "        pred_target = np.concatenate([np.zeros(history_length, dtype=bool), pred_target])\n",
    "        pred_targets.append(pred_target)\n",
    "    pred_targets = np.concatenate(pred_targets)\n",
    "    return f1_score(true_targets, pred_targets)"
   ]
  },
  {
   "cell_type": "code",
   "execution_count": 22,
   "id": "1148ffdf",
   "metadata": {},
   "outputs": [],
   "source": [
    "scores = []\n",
    "for p in np.linspace(0.01, 0.99, 99):\n",
    "    scores.append(f1_random_model(p))"
   ]
  },
  {
   "cell_type": "code",
   "execution_count": 25,
   "id": "31105211",
   "metadata": {},
   "outputs": [
    {
     "data": {
      "image/png": "[encoded data removed]",
      "text/plain": [
       "<Figure size 432x288 with 1 Axes>"
      ]
     },
     "metadata": {
      "needs_background": "light"
     },
     "output_type": "display_data"
    }
   ],
   "source": [
    "plt.plot(np.linspace(0.01, 0.99, 99), scores);"
   ]
  },
  {
   "cell_type": "code",
   "execution_count": null,
   "id": "cb429d84",
   "metadata": {},
   "outputs": [],
   "source": []
  },
  {
   "cell_type": "code",
   "execution_count": null,
   "id": "43345243",
   "metadata": {},
   "outputs": [],
   "source": []
  },
  {
   "cell_type": "code",
   "execution_count": null,
   "id": "fcd0c86f",
   "metadata": {},
   "outputs": [],
   "source": []
  },
  {
   "cell_type": "markdown",
   "id": "fd27cc3c",
   "metadata": {},
   "source": [
    "## Constant (positive) baseline model"
   ]
  },
  {
   "cell_type": "code",
   "execution_count": 12,
   "id": "7feb4f62",
   "metadata": {},
   "outputs": [
    {
     "name": "stderr",
     "output_type": "stream",
     "text": [
      "/tmp/ipykernel_24364/1585500004.py:2: TqdmDeprecationWarning: This function will be removed in tqdm==5.0.0\n",
      "Please use `tqdm.notebook.tqdm` instead of `tqdm.tqdm_notebook`\n",
      "  for xAR in tqdm_notebook(x_AR_vectorized):\n"
     ]
    },
    {
     "data": {
      "application/vnd.jupyter.widget-view+json": {
       "model_id": "ce1aee9d05954b7fadcb04a21b4c3cb9",
       "version_major": 2,
       "version_minor": 0
      },
      "text/plain": [
       "  0%|          | 0/40 [00:00<?, ?it/s]"
      ]
     },
     "metadata": {},
     "output_type": "display_data"
    }
   ],
   "source": [
    "pred_targets = []\n",
    "for xAR in tqdm_notebook(x_AR_vectorized):\n",
    "    pred_target = np.ones((xAR.shape[0]), dtype=bool)\n",
    "    pred_target = np.concatenate([np.zeros(history_length, dtype=bool), pred_target])\n",
    "    pred_targets.append(pred_target)"
   ]
  },
  {
   "cell_type": "code",
   "execution_count": 13,
   "id": "01acad66",
   "metadata": {},
   "outputs": [
    {
     "data": {
      "text/plain": [
       "(234482,)"
      ]
     },
     "execution_count": 13,
     "metadata": {},
     "output_type": "execute_result"
    }
   ],
   "source": [
    "pred_targets = np.concatenate(pred_targets)\n",
    "pred_targets.shape"
   ]
  },
  {
   "cell_type": "code",
   "execution_count": 14,
   "id": "33b4be15",
   "metadata": {},
   "outputs": [
    {
     "data": {
      "text/plain": [
       "0.038787776890420754"
      ]
     },
     "execution_count": 14,
     "metadata": {},
     "output_type": "execute_result"
    }
   ],
   "source": [
    "f1_score(true_targets, pred_targets)"
   ]
  },
  {
   "cell_type": "code",
   "execution_count": null,
   "id": "ade808d0",
   "metadata": {},
   "outputs": [],
   "source": []
  },
  {
   "cell_type": "code",
   "execution_count": null,
   "id": "1e01679a",
   "metadata": {},
   "outputs": [],
   "source": []
  },
  {
   "cell_type": "code",
   "execution_count": null,
   "id": "c7d72434",
   "metadata": {},
   "outputs": [],
   "source": []
  },
  {
   "cell_type": "markdown",
   "id": "a9c98272",
   "metadata": {},
   "source": [
    "## Constant (negative) baseline model"
   ]
  },
  {
   "cell_type": "code",
   "execution_count": 15,
   "id": "68596af0",
   "metadata": {},
   "outputs": [
    {
     "name": "stderr",
     "output_type": "stream",
     "text": [
      "/tmp/ipykernel_24364/306876299.py:2: TqdmDeprecationWarning: This function will be removed in tqdm==5.0.0\n",
      "Please use `tqdm.notebook.tqdm` instead of `tqdm.tqdm_notebook`\n",
      "  for xAR in tqdm_notebook(x_AR_vectorized):\n"
     ]
    },
    {
     "data": {
      "application/vnd.jupyter.widget-view+json": {
       "model_id": "b3b41d66e8e044939676f55af874eeea",
       "version_major": 2,
       "version_minor": 0
      },
      "text/plain": [
       "  0%|          | 0/40 [00:00<?, ?it/s]"
      ]
     },
     "metadata": {},
     "output_type": "display_data"
    }
   ],
   "source": [
    "pred_targets = []\n",
    "for xAR in tqdm_notebook(x_AR_vectorized):\n",
    "    pred_target = np.zeros((xAR.shape[0]), dtype=bool)\n",
    "    pred_target = np.concatenate([np.zeros(history_length, dtype=bool), pred_target])\n",
    "    pred_targets.append(pred_target)"
   ]
  },
  {
   "cell_type": "code",
   "execution_count": 16,
   "id": "8420453c",
   "metadata": {},
   "outputs": [
    {
     "data": {
      "text/plain": [
       "(234482,)"
      ]
     },
     "execution_count": 16,
     "metadata": {},
     "output_type": "execute_result"
    }
   ],
   "source": [
    "pred_targets = np.concatenate(pred_targets)\n",
    "pred_targets.shape"
   ]
  },
  {
   "cell_type": "code",
   "execution_count": 17,
   "id": "96623182",
   "metadata": {},
   "outputs": [
    {
     "data": {
      "text/plain": [
       "0.0"
      ]
     },
     "execution_count": 17,
     "metadata": {},
     "output_type": "execute_result"
    }
   ],
   "source": [
    "f1_score(true_targets, pred_targets)"
   ]
  },
  {
   "cell_type": "code",
   "execution_count": null,
   "id": "303d8278",
   "metadata": {},
   "outputs": [],
   "source": []
  }
 ],
 "metadata": {
  "kernelspec": {
   "display_name": "Python 3 (ipykernel)",
   "language": "python",
   "name": "python3"
  },
  "language_info": {
   "codemirror_mode": {
    "name": "ipython",
    "version": 3
   },
   "file_extension": ".py",
   "mimetype": "text/x-python",
   "name": "python",
   "nbconvert_exporter": "python",
   "pygments_lexer": "ipython3",
   "version": "3.8.13"
  }
 },
 "nbformat": 4,
 "nbformat_minor": 5
}
