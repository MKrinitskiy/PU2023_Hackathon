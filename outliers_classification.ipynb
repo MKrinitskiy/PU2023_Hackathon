{
 "cells": [
  {
   "cell_type": "code",
   "execution_count": 1,
   "id": "cb693c86",
   "metadata": {},
   "outputs": [],
   "source": [
    "from netCDF4 import Dataset\n",
    "import numpy as np\n",
    "import matplotlib.pyplot as plt\n",
    "import os, sys, fnmatch\n",
    "import numpy as np\n",
    "from lxml import etree\n",
    "import hashlib, json\n",
    "import re\n",
    "import pandas as pd\n",
    "import pickle\n",
    "from tqdm import tqdm_notebook\n",
    "from sklearn.metrics import f1_score\n",
    "from sklearn.model_selection import train_test_split"
   ]
  },
  {
   "cell_type": "code",
   "execution_count": 2,
   "id": "9bfbf4b0",
   "metadata": {},
   "outputs": [],
   "source": [
    "from sklearn.ensemble import RandomForestClassifier"
   ]
  },
  {
   "cell_type": "code",
   "execution_count": 3,
   "id": "d87539be",
   "metadata": {},
   "outputs": [],
   "source": [
    "with open('./public_bouy_data.pkl', 'rb') as f:\n",
    "    data = pickle.load(f)"
   ]
  },
  {
   "cell_type": "code",
   "execution_count": 4,
   "id": "913c006b",
   "metadata": {},
   "outputs": [],
   "source": [
    "with open('./public_bouy_target.pkl', 'rb') as f:\n",
    "    targets = pickle.load(f)"
   ]
  },
  {
   "cell_type": "code",
   "execution_count": 7,
   "id": "12a9d275",
   "metadata": {},
   "outputs": [],
   "source": [
    "history_length = 30"
   ]
  },
  {
   "cell_type": "code",
   "execution_count": 8,
   "id": "a7235183",
   "metadata": {},
   "outputs": [],
   "source": [
    "def get_Classification_problem_tables(df, target_array, history_length):\n",
    "    X_arrays = []\n",
    "    Y_values = []\n",
    "    for start in range(df.shape[0]):\n",
    "        if start < history_length-1:\n",
    "            continue\n",
    "        if start+forecast_range >= df.shape[0]:\n",
    "            break\n",
    "            \n",
    "        x = df[['dx','dy','dz']].iloc[start+1-history_length:start+1]\n",
    "        X_arrays.append(x)\n",
    "        \n",
    "        y = target_array[start]\n",
    "        Y_values.append(y)\n",
    "    \n",
    "    return X_arrays, Y_values"
   ]
  },
  {
   "cell_type": "code",
   "execution_count": 9,
   "id": "df7aa3fa",
   "metadata": {},
   "outputs": [],
   "source": [
    "def vectorize_data(Xdata, Ydata):\n",
    "    retX = []\n",
    "    retY = []\n",
    "    for x,y in zip(Xdata, Ydata):\n",
    "        xprime = x.values.reshape((-1,1))\n",
    "        yprime = y.reshape((-1,1))\n",
    "        retX.append(xprime)\n",
    "        retY.append(yprime)\n",
    "    return retX, retY"
   ]
  },
  {
   "cell_type": "code",
   "execution_count": 10,
   "id": "640f4d8e",
   "metadata": {},
   "outputs": [
    {
     "name": "stderr",
     "output_type": "stream",
     "text": [
      "/tmp/ipykernel_23270/2541459539.py:3: TqdmDeprecationWarning: This function will be removed in tqdm==5.0.0\n",
      "Please use `tqdm.notebook.tqdm` instead of `tqdm.tqdm_notebook`\n",
      "  for d,target_array in tqdm_notebook(zip(data, targets), total=len(data)):\n"
     ]
    },
    {
     "data": {
      "application/vnd.jupyter.widget-view+json": {
       "model_id": "42f5d97a5df0462c816d2b145636c8bc",
       "version_major": 2,
       "version_minor": 0
      },
      "text/plain": [
       "  0%|          | 0/40 [00:00<?, ?it/s]"
      ]
     },
     "metadata": {},
     "output_type": "display_data"
    }
   ],
   "source": [
    "x_AR = []\n",
    "y_AR = []\n",
    "for d,target_array in tqdm_notebook(zip(data, targets), total=len(data)):\n",
    "    x, y = get_Classification_problem_tables(d, target_array, history_length)\n",
    "    x_AR.append(x)\n",
    "    y_AR.append(y)"
   ]
  },
  {
   "cell_type": "raw",
   "id": "6b04a8de",
   "metadata": {},
   "source": [
    "xVectorized_all = []\n",
    "yVectorized_all = []\n",
    "for x,y in tqdm_notebook(zip(x_AR, y_AR), total=len(x_AR)):\n",
    "    xVec, yVec = vectorize_data(x, y)\n",
    "    xVec = np.concatenate(xVec, axis=1).T\n",
    "    yVec = np.concatenate(yVec, axis=1).T\n",
    "    xVectorized_all.append(xVec)\n",
    "    yVectorized_all.append(yVec)"
   ]
  },
  {
   "cell_type": "raw",
   "id": "6a5f2f17",
   "metadata": {},
   "source": [
    "with open('./X_classif_vectorized.pkl', 'wb') as f:\n",
    "    pickle.dump(xVectorized_all, f)"
   ]
  },
  {
   "cell_type": "raw",
   "id": "92b2b87d",
   "metadata": {},
   "source": [
    "with open('./Y_classif_vectorized.pkl', 'wb') as f:\n",
    "    pickle.dump(yVectorized_all, f)"
   ]
  },
  {
   "cell_type": "code",
   "execution_count": 15,
   "id": "49e2dfcf",
   "metadata": {},
   "outputs": [],
   "source": [
    "with open('./X_classif_vectorized.pkl', 'rb') as f:\n",
    "    xVectorized_all = pickle.load(f)"
   ]
  },
  {
   "cell_type": "code",
   "execution_count": 16,
   "id": "21f114c4",
   "metadata": {},
   "outputs": [],
   "source": [
    "with open('./Y_classif_vectorized.pkl', 'rb') as f:\n",
    "    yVectorized_all = pickle.load(f)"
   ]
  },
  {
   "cell_type": "code",
   "execution_count": null,
   "id": "070158da",
   "metadata": {},
   "outputs": [],
   "source": []
  },
  {
   "cell_type": "raw",
   "id": "530e4427",
   "metadata": {},
   "source": [
    "xVectorized_concat = np.concatenate(xVectorized_all, axis=0)\n",
    "xVectorized_concat.shape"
   ]
  },
  {
   "cell_type": "raw",
   "id": "aa6aea6f",
   "metadata": {},
   "source": [
    "yVectorized_concat = np.concatenate(yVectorized_all, axis=0)\n",
    "yVectorized_concat.shape"
   ]
  },
  {
   "cell_type": "raw",
   "id": "7de2e36f",
   "metadata": {},
   "source": [
    "with open('./X_classif_vectorized_concat.pkl', 'wb') as f:\n",
    "    pickle.dump(xVectorized_concat, f)"
   ]
  },
  {
   "cell_type": "raw",
   "id": "efe540b9",
   "metadata": {},
   "source": [
    "with open('./Y_classif_vectorized_concat.pkl', 'wb') as f:\n",
    "    pickle.dump(yVectorized_concat, f)"
   ]
  },
  {
   "cell_type": "code",
   "execution_count": 21,
   "id": "9aa47e45",
   "metadata": {},
   "outputs": [],
   "source": [
    "with open('./X_classif_vectorized_concat.pkl', 'rb') as f:\n",
    "    xVectorized_concat = pickle.load(f)"
   ]
  },
  {
   "cell_type": "code",
   "execution_count": 22,
   "id": "14888228",
   "metadata": {},
   "outputs": [],
   "source": [
    "with open('./Y_classif_vectorized_concat.pkl', 'rb') as f:\n",
    "    yVectorized_concat = pickle.load(f)"
   ]
  },
  {
   "cell_type": "code",
   "execution_count": null,
   "id": "55903574",
   "metadata": {},
   "outputs": [],
   "source": []
  },
  {
   "cell_type": "code",
   "execution_count": 29,
   "id": "1b6187ab",
   "metadata": {},
   "outputs": [],
   "source": [
    "x_train, x_test, y_train, y_test = train_test_split(xVectorized_concat, yVectorized_concat, test_size=0.25)"
   ]
  },
  {
   "cell_type": "code",
   "execution_count": null,
   "id": "2bd676ea",
   "metadata": {},
   "outputs": [],
   "source": []
  },
  {
   "cell_type": "code",
   "execution_count": 32,
   "id": "f2a05b53",
   "metadata": {},
   "outputs": [],
   "source": [
    "m = RandomForestClassifier(n_jobs=20, verbose=2)"
   ]
  },
  {
   "cell_type": "code",
   "execution_count": 33,
   "id": "81630129",
   "metadata": {
    "scrolled": true
   },
   "outputs": [
    {
     "name": "stderr",
     "output_type": "stream",
     "text": [
      "[Parallel(n_jobs=20)]: Using backend ThreadingBackend with 20 concurrent workers.\n"
     ]
    },
    {
     "name": "stdout",
     "output_type": "stream",
     "text": [
      "building tree 1 of 100\n",
      "building tree 2 of 100\n",
      "building tree 3 of 100\n",
      "building tree 4 of 100\n",
      "building tree 5 of 100\n",
      "building tree 6 of 100\n",
      "building tree 7 of 100\n",
      "building tree 8 of 100\n",
      "building tree 9 of 100\n",
      "building tree 10 of 100\n",
      "building tree 11 of 100\n",
      "building tree 12 of 100\n",
      "building tree 13 of 100\n",
      "building tree 14 of 100\n",
      "building tree 15 of 100\n",
      "building tree 16 of 100\n",
      "building tree 17 of 100\n",
      "building tree 18 of 100\n",
      "building tree 19 of 100\n",
      "building tree 20 of 100\n",
      "building tree 21 of 100\n"
     ]
    },
    {
     "name": "stderr",
     "output_type": "stream",
     "text": [
      "[Parallel(n_jobs=20)]: Done   1 tasks      | elapsed:    6.1s\n"
     ]
    },
    {
     "name": "stdout",
     "output_type": "stream",
     "text": [
      "building tree 22 of 100\n",
      "building tree 23 of 100\n",
      "building tree 24 of 100\n",
      "building tree 25 of 100\n",
      "building tree 26 of 100\n",
      "building tree 27 of 100\n",
      "building tree 28 of 100\n",
      "building tree 29 of 100\n",
      "building tree 30 of 100\n",
      "building tree 31 of 100\n",
      "building tree 32 of 100\n",
      "building tree 33 of 100\n",
      "building tree 34 of 100\n",
      "building tree 35 of 100\n",
      "building tree 36 of 100\n",
      "building tree 37 of 100\n",
      "building tree 38 of 100\n",
      "building tree 39 of 100\n",
      "building tree 40 of 100\n",
      "building tree 41 of 100\n",
      "building tree 42 of 100\n",
      "building tree 43 of 100\n",
      "building tree 44 of 100\n",
      "building tree 45 of 100\n",
      "building tree 46 of 100\n",
      "building tree 47 of 100\n",
      "building tree 48 of 100\n",
      "building tree 49 of 100\n",
      "building tree 50 of 100\n",
      "building tree 51 of 100\n",
      "building tree 52 of 100\n",
      "building tree 53 of 100\n",
      "building tree 54 of 100\n",
      "building tree 55 of 100\n",
      "building tree 56 of 100\n",
      "building tree 57 of 100\n",
      "building tree 58 of 100\n",
      "building tree 59 of 100\n",
      "building tree 60 of 100\n",
      "building tree 61 of 100\n",
      "building tree 62 of 100\n",
      "building tree 63 of 100\n",
      "building tree 64 of 100\n",
      "building tree 65 of 100\n",
      "building tree 66 of 100\n",
      "building tree 67 of 100\n",
      "building tree 68 of 100\n",
      "building tree 69 of 100\n",
      "building tree 70 of 100\n",
      "building tree 71 of 100\n",
      "building tree 72 of 100\n",
      "building tree 73 of 100\n",
      "building tree 74 of 100\n",
      "building tree 75 of 100\n",
      "building tree 76 of 100\n",
      "building tree 77 of 100\n",
      "building tree 78 of 100\n",
      "building tree 79 of 100\n",
      "building tree 80 of 100\n",
      "building tree 81 of 100\n",
      "building tree 82 of 100\n",
      "building tree 83 of 100\n",
      "building tree 84 of 100\n",
      "building tree 85 of 100\n",
      "building tree 86 of 100\n",
      "building tree 87 of 100\n",
      "building tree 88 of 100\n",
      "building tree 89 of 100\n",
      "building tree 90 of 100\n",
      "building tree 91 of 100\n",
      "building tree 92 of 100\n",
      "building tree 93 of 100\n",
      "building tree 94 of 100\n",
      "building tree 95 of 100\n",
      "building tree 96 of 100\n",
      "building tree 97 of 100\n",
      "building tree 98 of 100\n",
      "building tree 99 of 100\n",
      "building tree 100 of 100\n"
     ]
    },
    {
     "name": "stderr",
     "output_type": "stream",
     "text": [
      "[Parallel(n_jobs=20)]: Done 100 out of 100 | elapsed:   47.8s finished\n"
     ]
    },
    {
     "data": {
      "text/plain": [
       "RandomForestClassifier(n_jobs=20, verbose=2)"
      ]
     },
     "execution_count": 33,
     "metadata": {},
     "output_type": "execute_result"
    }
   ],
   "source": [
    "m.fit(x_train, y_train.ravel())"
   ]
  },
  {
   "cell_type": "code",
   "execution_count": 34,
   "id": "a1502b52",
   "metadata": {},
   "outputs": [],
   "source": [
    "m.verbose=0"
   ]
  },
  {
   "cell_type": "code",
   "execution_count": 35,
   "id": "6940527c",
   "metadata": {},
   "outputs": [],
   "source": [
    "y_test_pred = m.predict(x_test)"
   ]
  },
  {
   "cell_type": "code",
   "execution_count": 37,
   "id": "3145fed5",
   "metadata": {},
   "outputs": [
    {
     "data": {
      "text/plain": [
       "(58321, 1)"
      ]
     },
     "execution_count": 37,
     "metadata": {},
     "output_type": "execute_result"
    }
   ],
   "source": [
    "y_test.shape"
   ]
  },
  {
   "cell_type": "code",
   "execution_count": 38,
   "id": "a14dfd52",
   "metadata": {},
   "outputs": [
    {
     "data": {
      "text/plain": [
       "(58321,)"
      ]
     },
     "execution_count": 38,
     "metadata": {},
     "output_type": "execute_result"
    }
   ],
   "source": [
    "y_test_pred.shape"
   ]
  },
  {
   "cell_type": "code",
   "execution_count": 39,
   "id": "78db459b",
   "metadata": {},
   "outputs": [
    {
     "data": {
      "text/plain": [
       "0"
      ]
     },
     "execution_count": 39,
     "metadata": {},
     "output_type": "execute_result"
    }
   ],
   "source": [
    "y_test_pred.sum()"
   ]
  },
  {
   "cell_type": "code",
   "execution_count": 36,
   "id": "823ecf9f",
   "metadata": {},
   "outputs": [
    {
     "data": {
      "text/plain": [
       "0.0"
      ]
     },
     "execution_count": 36,
     "metadata": {},
     "output_type": "execute_result"
    }
   ],
   "source": [
    "f1_score(y_test.ravel(), y_test_pred)"
   ]
  },
  {
   "cell_type": "code",
   "execution_count": null,
   "id": "d4d8085a",
   "metadata": {},
   "outputs": [],
   "source": []
  }
 ],
 "metadata": {
  "kernelspec": {
   "display_name": "Python 3 (ipykernel)",
   "language": "python",
   "name": "python3"
  },
  "language_info": {
   "codemirror_mode": {
    "name": "ipython",
    "version": 3
   },
   "file_extension": ".py",
   "mimetype": "text/x-python",
   "name": "python",
   "nbconvert_exporter": "python",
   "pygments_lexer": "ipython3",
   "version": "3.8.13"
  }
 },
 "nbformat": 4,
 "nbformat_minor": 5
}
